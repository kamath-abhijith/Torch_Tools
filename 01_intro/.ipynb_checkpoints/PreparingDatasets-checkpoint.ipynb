{
 "cells": [
  {
   "cell_type": "markdown",
   "id": "17c72c2a",
   "metadata": {},
   "source": [
    "# Preparing Datasets for Training and Testing\n",
    "\n",
    "In this notebook:\n",
    "- use Torchvision to load existing datasets,\n",
    "- create a Dataset class to load custom datasets,\n",
    "- create data to make a custom dataset."
   ]
  },
  {
   "cell_type": "code",
   "execution_count": 1,
   "id": "bf83ddf0",
   "metadata": {},
   "outputs": [],
   "source": [
    "import torch\n",
    "import torchvision\n",
    "import numpy as np\n",
    "\n",
    "from scipy import io\n",
    "from matplotlib import pyplot as plt\n",
    "from torchvision import transforms as transforms\n",
    "from torch.utils.data import Dataset, DataLoader\n",
    "\n",
    "%matplotlib inline\n",
    "plt.style.use(['seaborn-deep'])\n",
    "plt.rcParams.update({\n",
    "    \"font.serif\": [\"cm\"],\n",
    "    \"mathtext.fontset\": \"cm\",\n",
    "    \"figure.figsize\": (12,6),\n",
    "    \"font.size\": 18})"
   ]
  },
  {
   "cell_type": "markdown",
   "id": "8742db6c",
   "metadata": {},
   "source": [
    "Load Fashion-MNIST using Torchvision. Then, transform the data into torch tensors."
   ]
  },
  {
   "cell_type": "code",
   "execution_count": 83,
   "id": "ea716955",
   "metadata": {},
   "outputs": [],
   "source": [
    "train_set = torchvision.datasets.FashionMNIST(\n",
    "    root='./../datasets',\n",
    "    train=True,\n",
    "    download=True,\n",
    "    transform=transforms.Compose([\n",
    "        transforms.ToTensor()\n",
    "    ])\n",
    ")"
   ]
  },
  {
   "cell_type": "code",
   "execution_count": 84,
   "id": "7f6c0b19",
   "metadata": {},
   "outputs": [
    {
     "name": "stdout",
     "output_type": "stream",
     "text": [
      "60000\n",
      "tensor([9, 0, 0,  ..., 3, 0, 5])\n",
      "tensor([6000, 6000, 6000, 6000, 6000, 6000, 6000, 6000, 6000, 6000])\n"
     ]
    }
   ],
   "source": [
    "print(len(train_set))\n",
    "print(train_set.targets)\n",
    "print(train_set.targets.bincount())"
   ]
  },
  {
   "cell_type": "markdown",
   "id": "6e9a731f",
   "metadata": {},
   "source": [
    "Since each class in the training set has the same frequency, **the training set is said to be balanced**."
   ]
  },
  {
   "cell_type": "markdown",
   "id": "f47ae32a",
   "metadata": {},
   "source": [
    "Use the DataLoader to create batches of tensor inputs."
   ]
  },
  {
   "cell_type": "code",
   "execution_count": 85,
   "id": "bb9c1d3f",
   "metadata": {},
   "outputs": [],
   "source": [
    "batch_size = 10\n",
    "train_loader = DataLoader(\n",
    "    train_set,\n",
    "    batch_size=batch_size\n",
    ")"
   ]
  },
  {
   "cell_type": "markdown",
   "id": "05891504",
   "metadata": {},
   "source": [
    "Display images from a batch along with their labels. Write a function to display a batch of images with their labels in a grid."
   ]
  },
  {
   "cell_type": "code",
   "execution_count": 86,
   "id": "1f7f45cf",
   "metadata": {},
   "outputs": [],
   "source": [
    "def show_image_batch(images, labels, ncols=5):\n",
    "    num_images = len(images)\n",
    "    nrows = num_images / ncols\n",
    "    \n",
    "    for idx in range(len(images)):\n",
    "        plt.subplot(2,5,idx+1)\n",
    "        plt.imshow(images[idx].squeeze(), cmap='gray')\n",
    "        plt.title(r\"Label: %d\" %(labels[idx]))\n",
    "        plt.axis('off')"
   ]
  },
  {
   "cell_type": "code",
   "execution_count": 87,
   "id": "a324ef3c",
   "metadata": {},
   "outputs": [
    {
     "data": {
      "image/png": "[encoded data removed]",
      "text/plain": [
       "<Figure size 864x432 with 10 Axes>"
      ]
     },
     "metadata": {
      "needs_background": "light"
     },
     "output_type": "display_data"
    }
   ],
   "source": [
    "batch = next(iter(train_loader))\n",
    "images, labels = batch\n",
    "\n",
    "show_image_batch(images, labels)"
   ]
  },
  {
   "cell_type": "markdown",
   "id": "d5408070",
   "metadata": {},
   "source": [
    "## Custom Dataset to Load Datasets"
   ]
  },
  {
   "cell_type": "markdown",
   "id": "0dbc99f3",
   "metadata": {},
   "source": [
    "Load the MNIST dataset from the .mat files already downloaded. Use the Dataset class and the parent class. The necessary functions are:\n",
    "- init\n",
    "- getitem\n",
    "- len"
   ]
  },
  {
   "cell_type": "code",
   "execution_count": 88,
   "id": "ea15cc6d",
   "metadata": {},
   "outputs": [],
   "source": [
    "class MNIST(Dataset):\n",
    "    def __init__(self, transform=None):\n",
    "        data = io.loadmat('./../datasets/MNIST/mnist_training_data.mat')\n",
    "        labels = io.loadmat('./../datasets/MNIST/mnist_training_label.mat')\n",
    "        \n",
    "        self.num_samples = len(data['training_data'])\n",
    "        self.samples = data['training_data'].reshape(self.num_samples, 28, 28)[:,None].astype(np.float32)\n",
    "        self.targets = labels['training_label'][:,0].astype(np.int64)\n",
    "        self.transform = transform\n",
    "    \n",
    "    def __getitem__(self, index):\n",
    "        if self.transform:\n",
    "            return self.transform(self.samples[index]), self.targets[index]\n",
    "        else:\n",
    "            return self.samples[index], self.targets[index]\n",
    "    \n",
    "    def __len__(self):\n",
    "        return self.num_samples"
   ]
  },
  {
   "cell_type": "markdown",
   "id": "17eaf248",
   "metadata": {},
   "source": [
    "Load an instance of the MNIST dataset and use the Dataloader to create batches."
   ]
  },
  {
   "cell_type": "code",
   "execution_count": 89,
   "id": "b010f9ee",
   "metadata": {},
   "outputs": [
    {
     "name": "stdout",
     "output_type": "stream",
     "text": [
      "50000\n",
      "[0 0 0 ... 9 9 9]\n"
     ]
    }
   ],
   "source": [
    "train_set = MNIST()\n",
    "print(len(train_set))\n",
    "print(train_set.targets)\n",
    "# print(train_data.targets.bincount())\n",
    "# Make bincount feature, comment on the balance of the dataset"
   ]
  },
  {
   "cell_type": "code",
   "execution_count": 90,
   "id": "d1774874",
   "metadata": {},
   "outputs": [],
   "source": [
    "batch_size = 10\n",
    "train_loader = DataLoader(\n",
    "    train_set,\n",
    "    batch_size=batch_size,\n",
    "    shuffle=True\n",
    ")"
   ]
  },
  {
   "cell_type": "markdown",
   "id": "dd3ec372",
   "metadata": {},
   "source": [
    "Show a batch from training dataset."
   ]
  },
  {
   "cell_type": "code",
   "execution_count": 91,
   "id": "47ea76d4",
   "metadata": {},
   "outputs": [
    {
     "data": {
      "image/png": "[encoded data removed]",
      "text/plain": [
       "<Figure size 864x432 with 10 Axes>"
      ]
     },
     "metadata": {
      "needs_background": "light"
     },
     "output_type": "display_data"
    }
   ],
   "source": [
    "batch = next(iter(train_loader))\n",
    "images, labels = batch\n",
    "\n",
    "show_image_batch(images, labels)"
   ]
  },
  {
   "cell_type": "markdown",
   "id": "84ab44bb",
   "metadata": {},
   "source": [
    "## Create Custom Data and Make a Dataset"
   ]
  },
  {
   "cell_type": "markdown",
   "id": "36fce243",
   "metadata": {},
   "source": [
    "Create a dataset for sparse signal recovery. Given a sensing matrix $A\\in\\mathbb{R}^{m\\times N}$, create sparse vector $\\mathbf{x}_i\\in\\mathbf{R}^{N}$ and measurement $\\mathbf{y}_i\\in\\mathbf{R}^{m}$ pairs, $i=1,2,\\cdots,n$, such that\n",
    "$$\n",
    "    \\mathbf{y}_i = A\\mathbf{x}_i, \\; \\forall i = 1,2,\\cdots,n, \\; \\text{where } \\mathbf{x}_i \\text{ is } k\\text{-sparse}.\n",
    "$$\n",
    "\n",
    "The sparse vectors are obtained from a Bernoulli-Gaussian distribution, i.e.,  the entries in $\\mathbf{x}_i$ are $\\mathcal{N}(0,1)$ Gaussian distributed with probability $\\rho$ equal to the sparsity factor $k$."
   ]
  },
  {
   "cell_type": "code",
   "execution_count": 92,
   "id": "5fb1cdb5",
   "metadata": {},
   "outputs": [],
   "source": [
    "def make_sparse_data(dictionary, sparsity, num_samples, snr=None):\n",
    "    '''\n",
    "    Make dataset with sparse vector, measurement pairs\n",
    "    for a given dictionary\n",
    "    \n",
    "    :param dictionary: given dictionary\n",
    "    :param sparsity: sparsity level\n",
    "    :param num_samples: number of training samples\n",
    "    :param snr: SNR of the measurements\n",
    "    \n",
    "    '''\n",
    "    \n",
    "    m, N = dictionary.shape\n",
    "    sparse_vectors = np.random.normal(0,1,(N,num_samples)) \\\n",
    "        * np.random.binomial(1,sparsity,(N,num_samples))\n",
    "    measurements = dictionary @ sparse_vectors\n",
    "    \n",
    "    if snr is not None:\n",
    "        noise_std = np.std(measurements, axis=0) * (10**(-snr/20.))\n",
    "        measurements += np.random.normal(0,noise_std,(m, num_samples))\n",
    "    \n",
    "    return sparse_vectors, measurements"
   ]
  },
  {
   "cell_type": "markdown",
   "id": "ea096c8b",
   "metadata": {},
   "source": [
    "The sensing matrix or dictionary is chosen to be a random Gaussian matrix, which provides provable guarantees of sparse recovery. In particular, the sensing matrix\n",
    "$$\n",
    "    \\mathbb{R}^{m\\times N} \\ni A \\sim \\mathcal{N}(0,m^{-1}I).\n",
    "$$"
   ]
  },
  {
   "cell_type": "code",
   "execution_count": 93,
   "id": "198b89ec",
   "metadata": {},
   "outputs": [],
   "source": [
    "m = 70\n",
    "N = 100\n",
    "dictionary = np.random.normal(0, 1/np.sqrt(m), [m, N])\n",
    "dictionary /= np.linalg.norm(dictionary, axis=0)"
   ]
  },
  {
   "cell_type": "markdown",
   "id": "4d98f6d7",
   "metadata": {},
   "source": [
    "Using this, we can see that the function creates a dataset of sparse vectors."
   ]
  },
  {
   "cell_type": "code",
   "execution_count": 94,
   "id": "381ee590",
   "metadata": {},
   "outputs": [
    {
     "name": "stdout",
     "output_type": "stream",
     "text": [
      "(100, 1000)\n",
      "(70, 1000)\n"
     ]
    },
    {
     "data": {
      "text/plain": [
       "<StemContainer object of 3 artists>"
      ]
     },
     "execution_count": 94,
     "metadata": {},
     "output_type": "execute_result"
    },
    {
     "data": {
      "image/png": "[encoded data removed]",
      "text/plain": [
       "<Figure size 864x432 with 1 Axes>"
      ]
     },
     "metadata": {
      "needs_background": "light"
     },
     "output_type": "display_data"
    }
   ],
   "source": [
    "sparsity = 20\n",
    "num_samples = 1000\n",
    "snr = 20\n",
    "\n",
    "X_train, Y_train = make_sparse_data(dictionary=dictionary,\n",
    "                                    sparsity=sparsity/N,\n",
    "                                    num_samples=num_samples,\n",
    "                                    snr=snr)\n",
    "\n",
    "print(X_train.shape)\n",
    "print(Y_train.shape)\n",
    "\n",
    "plt.stem(X_train[:,0])"
   ]
  },
  {
   "cell_type": "markdown",
   "id": "07a939c2",
   "metadata": {},
   "source": [
    "Put this into a class inherited from Dataset."
   ]
  },
  {
   "cell_type": "code",
   "execution_count": 109,
   "id": "663dae60",
   "metadata": {},
   "outputs": [],
   "source": [
    "class sparse_data(Dataset):\n",
    "    \n",
    "    def make_random_dict(self, m, N):\n",
    "        dictionary = np.random.normal(0, 1/np.sqrt(m), [m, N])\n",
    "        dictionary /= np.linalg.norm(dictionary, axis=0)\n",
    "        return dictionary\n",
    "    \n",
    "    def data_from_dict(self, dictionary, sparsity, num_samples, snr=None):\n",
    "        m, N = dictionary.shape\n",
    "        sparsity /= N\n",
    "        sparse_vectors = np.random.normal(0,1,(num_samples,N)) \\\n",
    "            * np.random.binomial(1,sparsity,(num_samples,N))\n",
    "        measurements = sparse_vectors @ dictionary.T\n",
    "\n",
    "        if snr is not None:\n",
    "            noise_std = np.std(measurements, axis=0) * (10**(-snr/20.))\n",
    "            measurements += np.random.normal(0,noise_std,(num_samples,m))\n",
    "\n",
    "        return sparse_vectors, measurements\n",
    "    \n",
    "    def __init__(self, m, N, sparsity, num_samples, snr, transform=None):\n",
    "        self.sparsity = sparsity\n",
    "        self.num_samples = num_samples\n",
    "        self.snr = snr\n",
    "        self.dictionary = self.make_random_dict(m, N)\n",
    "        self.sparse_vectors, self.measurements = self.data_from_dict(\n",
    "            self.dictionary,\n",
    "            self.sparsity,\n",
    "            self.num_samples,\n",
    "            self.snr\n",
    "            )\n",
    "        self.transform = transform\n",
    "    \n",
    "    def __getitem__(self, index):\n",
    "        return torch.tensor(self.sparse_vectors[index]), torch.tensor(self.measurements[index])\n",
    "    \n",
    "    def __len__(self):\n",
    "        return self.num_samples"
   ]
  },
  {
   "cell_type": "markdown",
   "id": "6cd1066b",
   "metadata": {},
   "source": [
    "Now, we can use the Dataloader from Torch to create batches."
   ]
  },
  {
   "cell_type": "code",
   "execution_count": 114,
   "id": "e37b6ca9",
   "metadata": {},
   "outputs": [
    {
     "name": "stdout",
     "output_type": "stream",
     "text": [
      "50000\n"
     ]
    }
   ],
   "source": [
    "m = 70\n",
    "N = 100\n",
    "sparsity = 10\n",
    "num_samples = 1000\n",
    "snr = 20\n",
    "training_set = sparse_data(\n",
    "    m,\n",
    "    N,\n",
    "    sparsity,\n",
    "    num_samples,\n",
    "    snr\n",
    ")\n",
    "\n",
    "print(len(train_set))"
   ]
  },
  {
   "cell_type": "code",
   "execution_count": 115,
   "id": "4cd6a245",
   "metadata": {},
   "outputs": [
    {
     "name": "stdout",
     "output_type": "stream",
     "text": [
      "torch.Size([10, 100])\n",
      "torch.Size([10, 70])\n"
     ]
    },
    {
     "data": {
      "text/plain": [
       "<StemContainer object of 3 artists>"
      ]
     },
     "execution_count": 115,
     "metadata": {},
     "output_type": "execute_result"
    },
    {
     "data": {
      "image/png": "[encoded data removed]",
      "text/plain": [
       "<Figure size 864x432 with 1 Axes>"
      ]
     },
     "metadata": {
      "needs_background": "light"
     },
     "output_type": "display_data"
    }
   ],
   "source": [
    "batch_size = 10\n",
    "training_loader = DataLoader(training_set, batch_size=batch_size)\n",
    "\n",
    "batch = next(iter(training_loader))\n",
    "sparse_vectors, measurements = batch\n",
    "\n",
    "print(sparse_vectors.shape)\n",
    "print(measurements.shape)\n",
    "\n",
    "plt.stem(sparse_vectors[0,:])"
   ]
  }
 ],
 "metadata": {
  "kernelspec": {
   "display_name": "Python 3 (ipykernel)",
   "language": "python",
   "name": "python3"
  },
  "language_info": {
   "codemirror_mode": {
    "name": "ipython",
    "version": 3
   },
   "file_extension": ".py",
   "mimetype": "text/x-python",
   "name": "python",
   "nbconvert_exporter": "python",
   "pygments_lexer": "ipython3",
   "version": "3.7.11"
  }
 },
 "nbformat": 4,
 "nbformat_minor": 5
}
