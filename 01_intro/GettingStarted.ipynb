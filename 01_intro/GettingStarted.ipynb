{
 "cells": [
  {
   "cell_type": "markdown",
   "id": "68ad2757",
   "metadata": {},
   "source": [
    "# Deep Learning using PyTorch"
   ]
  },
  {
   "cell_type": "markdown",
   "id": "f351b6dd",
   "metadata": {},
   "source": [
    "Some bookkeeping -- let's us:\n",
    "- import packages,\n",
    "- print versions, and\n",
    "- use the GPU, if available."
   ]
  },
  {
   "cell_type": "code",
   "execution_count": 1,
   "id": "acde0c46",
   "metadata": {},
   "outputs": [],
   "source": [
    "import torch\n",
    "import numpy as np\n",
    "\n",
    "from torch import nn as nn"
   ]
  },
  {
   "cell_type": "code",
   "execution_count": 2,
   "id": "989acfc8",
   "metadata": {},
   "outputs": [
    {
     "name": "stdout",
     "output_type": "stream",
     "text": [
      "1.7.1\n"
     ]
    }
   ],
   "source": [
    "print(torch.__version__)"
   ]
  },
  {
   "cell_type": "code",
   "execution_count": 3,
   "id": "21a1a3cd",
   "metadata": {},
   "outputs": [
    {
     "name": "stdout",
     "output_type": "stream",
     "text": [
      "CUDA NOT FOUND\n"
     ]
    }
   ],
   "source": [
    "if torch.cuda.is_available():\n",
    "    print(torch.version.cuda)\n",
    "else:\n",
    "    print(\"CUDA NOT FOUND\")"
   ]
  },
  {
   "cell_type": "markdown",
   "id": "22b849f1",
   "metadata": {},
   "source": [
    "Let us set the device to GPU if it is avaliable."
   ]
  },
  {
   "cell_type": "code",
   "execution_count": 4,
   "id": "262fec4a",
   "metadata": {},
   "outputs": [
    {
     "data": {
      "text/plain": [
       "device(type='cpu')"
      ]
     },
     "execution_count": 4,
     "metadata": {},
     "output_type": "execute_result"
    }
   ],
   "source": [
    "device = torch.device(\"cuda:0\" if torch.cuda.is_available() else \"cpu\")\n",
    "device"
   ]
  }
 ],
 "metadata": {
  "kernelspec": {
   "display_name": "Python 3 (ipykernel)",
   "language": "python",
   "name": "python3"
  },
  "language_info": {
   "codemirror_mode": {
    "name": "ipython",
    "version": 3
   },
   "file_extension": ".py",
   "mimetype": "text/x-python",
   "name": "python",
   "nbconvert_exporter": "python",
   "pygments_lexer": "ipython3",
   "version": "3.7.11"
  }
 },
 "nbformat": 4,
 "nbformat_minor": 5
}
