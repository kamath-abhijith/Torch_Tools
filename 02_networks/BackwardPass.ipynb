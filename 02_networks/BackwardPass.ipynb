{
 "cells": [
  {
   "cell_type": "markdown",
   "id": "062df5ac",
   "metadata": {},
   "source": [
    "# Training using Backpropagation"
   ]
  },
  {
   "cell_type": "markdown",
   "id": "24fe63b5",
   "metadata": {},
   "source": [
    "Let's use the ```autograd``` feature to enable training using backpropagation. A general flow of training follows:\n",
    "- Repeat for as many epochs:\n",
    "    - Repeat until one epoch:\n",
    "        - Extract a batch from the training set,\n",
    "        - Execute a **forward pass** to obtain predictions on the batch,\n",
    "        - Compute the **loss**,\n",
    "        - Compute the **gradient** of the loss function w.r.t the weights using ```autograd```,\n",
    "        - **Update the weights** using the gradients propagated using backpropagation,\n"
   ]
  },
  {
   "cell_type": "code",
   "execution_count": 37,
   "id": "a1e29620",
   "metadata": {},
   "outputs": [],
   "source": [
    "import os\n",
    "import torch\n",
    "import torchvision\n",
    "import numpy as np\n",
    "import seaborn as sns\n",
    "\n",
    "from scipy import io\n",
    "from torch import nn\n",
    "from torch import optim \n",
    "from torchvision import transforms\n",
    "from torch.utils.data import Dataset, DataLoader\n",
    "from torch.nn import functional as F\n",
    "from matplotlib import pyplot as plt\n",
    "\n",
    "torch.set_printoptions(linewidth=120)"
   ]
  },
  {
   "cell_type": "markdown",
   "id": "17abcd11",
   "metadata": {},
   "source": [
    "Let's set the following:\n",
    "- Training dataset - MNIST with batch size $100$\n",
    "- Convolutional Neural Network"
   ]
  },
  {
   "cell_type": "code",
   "execution_count": 4,
   "id": "4cbfc77e",
   "metadata": {},
   "outputs": [],
   "source": [
    "class MNIST(Dataset):\n",
    "    def __init__(self, transform=None):\n",
    "        data = io.loadmat('./../datasets/MNIST/mnist_training_data.mat')\n",
    "        labels = io.loadmat('./../datasets/MNIST/mnist_training_label.mat')\n",
    "        \n",
    "        self.num_samples = len(data['training_data'])\n",
    "        self.samples = data['training_data'].reshape(self.num_samples, 28, 28)[:,None].astype(np.float32)\n",
    "        self.targets = labels['training_label'][:,0].astype(np.int64)\n",
    "        self.transform = transform\n",
    "    \n",
    "    def __getitem__(self, index):\n",
    "        if self.transform:\n",
    "            return self.transform(self.samples[index]), self.targets[index]\n",
    "        else:\n",
    "            return self.samples[index], self.targets[index]\n",
    "    \n",
    "    def __len__(self):\n",
    "        return self.num_samples"
   ]
  },
  {
   "cell_type": "code",
   "execution_count": 5,
   "id": "c16ee7dd",
   "metadata": {},
   "outputs": [
    {
     "name": "stdout",
     "output_type": "stream",
     "text": [
      "50000\n",
      "[0 0 0 ... 9 9 9]\n"
     ]
    }
   ],
   "source": [
    "train_set = MNIST()\n",
    "print(len(train_set))\n",
    "print(train_set.targets)\n",
    "# print(train_data.targets.bincount())\n",
    "# Make bincount feature, comment on the balance of the dataset"
   ]
  },
  {
   "cell_type": "code",
   "execution_count": 6,
   "id": "32579ada",
   "metadata": {},
   "outputs": [],
   "source": [
    "batch_size = 100\n",
    "train_loader = DataLoader(\n",
    "    train_set,\n",
    "    batch_size=batch_size,\n",
    "    shuffle=True\n",
    ")"
   ]
  },
  {
   "cell_type": "markdown",
   "id": "fedc1e80",
   "metadata": {},
   "source": [
    "Let's use the convolutional neural network and instantiate an object network."
   ]
  },
  {
   "cell_type": "code",
   "execution_count": 7,
   "id": "910aab73",
   "metadata": {},
   "outputs": [],
   "source": [
    "class ConvNetwork(nn.Module):\n",
    "    \n",
    "    def __init__(self):\n",
    "        super(ConvNetwork, self).__init__()\n",
    "        \n",
    "        self.conv1 = nn.Conv2d(in_channels=1, out_channels=6, kernel_size=5)\n",
    "        self.conv2 = nn.Conv2d(in_channels=6, out_channels=12, kernel_size=5)\n",
    "        \n",
    "        self.dense1 = nn.Linear(in_features=12*4*4, out_features=120)\n",
    "        self.dense2 = nn.Linear(in_features=120, out_features=60)\n",
    "        self.out = nn.Linear(in_features=60, out_features=10)\n",
    "        \n",
    "    def forward(self, x):\n",
    "        # (1) hidden conv layer\n",
    "        x = self.conv1(x)\n",
    "        x = F.relu(x)\n",
    "        x = F.max_pool2d(x, kernel_size=2, stride=2)\n",
    "        \n",
    "        # (2) hidden conv layer\n",
    "        x = self.conv2(x)\n",
    "        x = F.relu(x)\n",
    "        x = F.max_pool2d(x, kernel_size=2, stride=2)\n",
    "        \n",
    "        # (3) hidden linear layer\n",
    "        x = x.reshape(-1, 12*4*4)\n",
    "        x = self.dense1(x)\n",
    "        x = F.relu(x)\n",
    "        \n",
    "        # (4) hidden linear layer\n",
    "        x = self.dense2(x)\n",
    "        x = F.relu(x)\n",
    "        \n",
    "        # (5) output layer\n",
    "        x = self.out(x)\n",
    "        # x = F.softmax(x, dim=1) # This will be implemented within the loss function\n",
    "        \n",
    "        return x"
   ]
  },
  {
   "cell_type": "code",
   "execution_count": 8,
   "id": "976e34df",
   "metadata": {},
   "outputs": [
    {
     "data": {
      "text/plain": [
       "ConvNetwork(\n",
       "  (conv1): Conv2d(1, 6, kernel_size=(5, 5), stride=(1, 1))\n",
       "  (conv2): Conv2d(6, 12, kernel_size=(5, 5), stride=(1, 1))\n",
       "  (dense1): Linear(in_features=192, out_features=120, bias=True)\n",
       "  (dense2): Linear(in_features=120, out_features=60, bias=True)\n",
       "  (out): Linear(in_features=60, out_features=10, bias=True)\n",
       ")"
      ]
     },
     "execution_count": 8,
     "metadata": {},
     "output_type": "execute_result"
    }
   ],
   "source": [
    "network = ConvNetwork()\n",
    "network"
   ]
  },
  {
   "cell_type": "markdown",
   "id": "c6f4abc5",
   "metadata": {},
   "source": [
    "Let's compute the cross-entropy loss on one batch, and also, see how many predictions it gets right."
   ]
  },
  {
   "cell_type": "code",
   "execution_count": 9,
   "id": "b6e30b3e",
   "metadata": {},
   "outputs": [],
   "source": [
    "def get_num_correct(predictions, labels):\n",
    "    return F.softmax(predictions, dim=1).argmax(dim=1).eq(labels).sum().item()"
   ]
  },
  {
   "cell_type": "code",
   "execution_count": 10,
   "id": "aba423ce",
   "metadata": {},
   "outputs": [],
   "source": [
    "batch = next(iter(train_loader))\n",
    "images, labels = batch"
   ]
  },
  {
   "cell_type": "code",
   "execution_count": 11,
   "id": "3baac5ed",
   "metadata": {},
   "outputs": [
    {
     "data": {
      "text/plain": [
       "2.3089396953582764"
      ]
     },
     "execution_count": 11,
     "metadata": {},
     "output_type": "execute_result"
    }
   ],
   "source": [
    "predictions = network(images)\n",
    "loss = F.cross_entropy(predictions, labels)\n",
    "loss.item()"
   ]
  },
  {
   "cell_type": "code",
   "execution_count": 12,
   "id": "1d253b88",
   "metadata": {},
   "outputs": [
    {
     "data": {
      "text/plain": [
       "5"
      ]
     },
     "execution_count": 12,
     "metadata": {},
     "output_type": "execute_result"
    }
   ],
   "source": [
    "get_num_correct(predictions, labels)"
   ]
  },
  {
   "cell_type": "markdown",
   "id": "8eaef297",
   "metadata": {},
   "source": [
    "Let's use the ```backward()``` module attached to the loss function to compute the gradients using backpropagation. The gradients can be computed using the computational graph that is carried over to the loss function by the ```predictions``` tensor computed during the forward pass."
   ]
  },
  {
   "cell_type": "code",
   "execution_count": 13,
   "id": "cc4948d8",
   "metadata": {},
   "outputs": [
    {
     "name": "stdout",
     "output_type": "stream",
     "text": [
      "None\n"
     ]
    }
   ],
   "source": [
    "print(network.conv1.weight.grad)"
   ]
  },
  {
   "cell_type": "code",
   "execution_count": 14,
   "id": "e1182cb0",
   "metadata": {},
   "outputs": [],
   "source": [
    "loss.backward()"
   ]
  },
  {
   "cell_type": "code",
   "execution_count": 15,
   "id": "c3ad84e6",
   "metadata": {},
   "outputs": [
    {
     "name": "stdout",
     "output_type": "stream",
     "text": [
      "tensor([[[[-1.2025e-03, -4.2539e-04,  8.6052e-04,  1.9625e-03,  2.4795e-03],\n",
      "          [-6.2868e-04, -2.1840e-06,  1.4146e-03,  1.4703e-03,  1.6656e-03],\n",
      "          [-2.3702e-04,  5.8718e-04,  1.0351e-03,  1.2767e-03,  1.1774e-03],\n",
      "          [ 1.4713e-04,  5.6665e-04,  1.1945e-03,  1.3665e-03,  7.6529e-04],\n",
      "          [ 2.9348e-04, -7.9188e-05,  3.0587e-04,  9.8698e-05, -1.6978e-04]]],\n",
      "\n",
      "\n",
      "        [[[-1.3499e-03, -9.2008e-04,  3.7518e-04,  8.8864e-04,  1.3828e-04],\n",
      "          [-1.1854e-03, -2.8092e-04,  4.7713e-05, -2.8618e-04, -9.5897e-04],\n",
      "          [-1.0705e-03, -5.5679e-04, -6.3794e-04, -1.6312e-03, -1.8088e-03],\n",
      "          [-1.2722e-03, -1.0289e-03, -1.4042e-03, -2.2241e-03, -2.0690e-03],\n",
      "          [-1.0911e-03, -1.6828e-03, -1.6657e-03, -1.7943e-03, -1.9395e-03]]],\n",
      "\n",
      "\n",
      "        [[[-8.5157e-04, -1.6332e-03, -8.4922e-04, -4.0067e-04, -3.5049e-04],\n",
      "          [-1.2006e-03, -1.1869e-03, -8.5564e-04, -8.1732e-04, -7.3436e-04],\n",
      "          [-1.3193e-04, -1.4425e-04, -4.9229e-05, -3.2223e-04, -2.8782e-04],\n",
      "          [ 7.2450e-04,  1.1655e-03,  8.4252e-04,  5.0889e-04,  3.3884e-04],\n",
      "          [ 1.1043e-03,  1.5711e-03,  1.3985e-03,  8.6580e-04,  1.9071e-04]]],\n",
      "\n",
      "\n",
      "        [[[-3.4355e-04,  1.0783e-03,  2.6222e-03,  2.3183e-03,  8.5477e-04],\n",
      "          [ 6.6846e-04,  1.9650e-03,  2.6861e-03,  2.0646e-03,  7.0565e-04],\n",
      "          [ 1.4103e-03,  2.1067e-03,  2.3626e-03,  1.9574e-03,  7.9836e-04],\n",
      "          [ 1.2463e-03,  1.3836e-03,  2.0951e-03,  1.4840e-03, -2.0643e-05],\n",
      "          [ 9.4541e-04,  1.0798e-03,  9.5944e-04,  1.6497e-04, -1.1327e-03]]],\n",
      "\n",
      "\n",
      "        [[[-9.6334e-06, -3.5048e-05, -2.1095e-04,  9.9068e-05,  6.3121e-04],\n",
      "          [ 3.5683e-05,  1.9794e-04,  3.6946e-04,  6.9780e-04,  1.2125e-03],\n",
      "          [ 2.4425e-04,  8.1577e-04,  8.7399e-04,  1.2268e-03,  1.0360e-03],\n",
      "          [ 5.0828e-04,  9.0351e-04,  1.3866e-03,  1.1624e-03,  7.2350e-04],\n",
      "          [ 1.1253e-03,  1.7369e-03,  1.2970e-03,  6.7664e-04,  6.5657e-04]]],\n",
      "\n",
      "\n",
      "        [[[ 4.7377e-04,  4.8950e-05, -8.8842e-05, -1.6245e-04, -1.6505e-04],\n",
      "          [ 7.0084e-04,  4.2378e-04,  1.9195e-05,  2.5542e-06, -7.2150e-07],\n",
      "          [ 7.5529e-04,  2.4602e-04, -7.2134e-05, -1.4079e-04, -1.9287e-04],\n",
      "          [ 4.7072e-04,  1.7269e-04, -5.4362e-05, -1.1268e-04, -3.2928e-05],\n",
      "          [ 3.5467e-04,  2.3418e-04,  1.0664e-04,  3.2647e-05,  1.1790e-04]]]])\n",
      "torch.Size([6, 1, 5, 5])\n"
     ]
    }
   ],
   "source": [
    "print(network.conv1.weight.grad)\n",
    "print(network.conv1.weight.grad.shape)"
   ]
  },
  {
   "cell_type": "markdown",
   "id": "759c9400",
   "metadata": {},
   "source": [
    "Notice that the gradient of the loss w.r.t the weights of ```conv1``` have the same shape as the weights of the layer. Using these gradients, we use an optimiser to update all parameters of the network."
   ]
  },
  {
   "cell_type": "code",
   "execution_count": 16,
   "id": "20160539",
   "metadata": {},
   "outputs": [],
   "source": [
    "optimiser = optim.Adam(network.parameters(), lr=0.01)\n",
    "optimiser.step()"
   ]
  },
  {
   "cell_type": "code",
   "execution_count": 17,
   "id": "e96b2699",
   "metadata": {},
   "outputs": [
    {
     "data": {
      "text/plain": [
       "2.265723705291748"
      ]
     },
     "execution_count": 17,
     "metadata": {},
     "output_type": "execute_result"
    }
   ],
   "source": [
    "predictions = network(images)\n",
    "loss = F.cross_entropy(predictions, labels)\n",
    "loss.item()"
   ]
  },
  {
   "cell_type": "code",
   "execution_count": 18,
   "id": "c001add5",
   "metadata": {},
   "outputs": [
    {
     "data": {
      "text/plain": [
       "12"
      ]
     },
     "execution_count": 18,
     "metadata": {},
     "output_type": "execute_result"
    }
   ],
   "source": [
    "get_num_correct(predictions, labels)"
   ]
  },
  {
   "cell_type": "markdown",
   "id": "c091558c",
   "metadata": {},
   "source": [
    "We expect the loss on the same batch to decrese and the number of correct predictions to increase."
   ]
  },
  {
   "cell_type": "markdown",
   "id": "aad096ea",
   "metadata": {},
   "source": [
    "We can now put all this together to train with all the images to make an epoch, and then to run multiple epochs."
   ]
  },
  {
   "cell_type": "code",
   "execution_count": 19,
   "id": "9cc1a2d6",
   "metadata": {},
   "outputs": [
    {
     "name": "stdout",
     "output_type": "stream",
     "text": [
      "epoch: 0 \t accuracy: 0.916500 \t loss: 131.098976\n",
      "epoch: 1 \t accuracy: 0.971000 \t loss: 48.721128\n",
      "epoch: 2 \t accuracy: 0.976180 \t loss: 40.642286\n",
      "epoch: 3 \t accuracy: 0.978580 \t loss: 37.545998\n",
      "epoch: 4 \t accuracy: 0.979600 \t loss: 35.114310\n"
     ]
    }
   ],
   "source": [
    "model = ConvNetwork()\n",
    "optimiser = optim.Adam(model.parameters(), lr=0.01)\n",
    "\n",
    "num_epochs = 5\n",
    "for epoch in range(num_epochs):\n",
    "    training_loss = 0\n",
    "    training_accuracy = 0\n",
    "    for batch in train_loader:\n",
    "        # Load a batch\n",
    "        images, labels = batch\n",
    "        \n",
    "        # Execute a forward pass\n",
    "        predictions = model(images)\n",
    "        \n",
    "        # Compute the loss\n",
    "        loss = F.cross_entropy(predictions, labels)\n",
    "        \n",
    "        # Compute gradients\n",
    "        optimiser.zero_grad()\n",
    "        loss.backward()\n",
    "        \n",
    "        # Update the weights\n",
    "        optimiser.step()\n",
    "        \n",
    "        training_loss += loss.item()\n",
    "        accuracy += get_num_correct(predictions, labels) / len(train_set)\n",
    "        \n",
    "    print(\"epoch: %d \\t training accuracy: %f \\t loss: %f\" %(epoch, accuracy, training_loss))"
   ]
  },
  {
   "cell_type": "markdown",
   "id": "8feeb66f",
   "metadata": {},
   "source": [
    "We can now save the model using ```torch.save()```, and use the trained model later."
   ]
  },
  {
   "cell_type": "code",
   "execution_count": 21,
   "id": "0624b2cb",
   "metadata": {},
   "outputs": [],
   "source": [
    "os.makedirs('./../models', exist_ok=True)\n",
    "path = './../models/'\n",
    "torch.save(model, path + 'model_CNN_dataset_MNIST_method_Adam_epochs_' + str(num_epochs) + '.pth')"
   ]
  },
  {
   "cell_type": "markdown",
   "id": "893c4edc",
   "metadata": {},
   "source": [
    "We can then load the model using ```torch.load()```."
   ]
  },
  {
   "cell_type": "code",
   "execution_count": 23,
   "id": "25cb507c",
   "metadata": {
    "scrolled": true
   },
   "outputs": [
    {
     "data": {
      "text/plain": [
       "ConvNetwork(\n",
       "  (conv1): Conv2d(1, 6, kernel_size=(5, 5), stride=(1, 1))\n",
       "  (conv2): Conv2d(6, 12, kernel_size=(5, 5), stride=(1, 1))\n",
       "  (dense1): Linear(in_features=192, out_features=120, bias=True)\n",
       "  (dense2): Linear(in_features=120, out_features=60, bias=True)\n",
       "  (out): Linear(in_features=60, out_features=10, bias=True)\n",
       ")"
      ]
     },
     "execution_count": 23,
     "metadata": {},
     "output_type": "execute_result"
    }
   ],
   "source": [
    "model = torch.load(path + 'model_CNN_dataset_MNIST_method_Adam_epochs_' + str(num_epochs) + '.pth')\n",
    "model.eval()"
   ]
  },
  {
   "cell_type": "code",
   "execution_count": 24,
   "id": "03b7015b",
   "metadata": {},
   "outputs": [
    {
     "name": "stdout",
     "output_type": "stream",
     "text": [
      "Parameter containing:\n",
      "tensor([[[[-0.2589, -0.1816, -0.2574, -0.2567,  0.0420],\n",
      "          [-0.0781,  0.3618,  0.3701, -0.4409, -0.7600],\n",
      "          [-0.1132,  0.1207,  0.4947,  0.1722, -0.4734],\n",
      "          [-0.3470, -0.1445,  0.4332,  0.3510,  0.4995],\n",
      "          [-0.6661, -0.0501,  0.0483,  0.0542,  0.1181]]],\n",
      "\n",
      "\n",
      "        [[[-0.7712, -0.2901,  0.2578,  0.1321,  0.2475],\n",
      "          [-0.3980,  0.6015,  0.5483, -0.2451,  0.0054],\n",
      "          [ 0.3374,  0.4657, -0.2507, -0.2887, -0.1204],\n",
      "          [ 0.0080, -0.0721, -0.1369, -0.1670, -0.3166],\n",
      "          [ 0.1099,  0.3159, -0.0152, -0.0824, -0.1423]]],\n",
      "\n",
      "\n",
      "        [[[ 0.0552,  0.1269,  0.0289,  0.1342, -0.1974],\n",
      "          [ 0.3401,  0.3437,  0.0160,  0.3601,  0.1320],\n",
      "          [-0.0458,  0.0541, -0.1236,  0.0649, -0.0247],\n",
      "          [ 0.1987, -0.1245, -0.2811, -0.3728, -0.3026],\n",
      "          [-0.3764, -0.8028, -0.3071, -0.0088,  0.0758]]],\n",
      "\n",
      "\n",
      "        [[[-0.1953, -0.2918,  0.2427, -0.0169, -0.1973],\n",
      "          [-0.0774,  0.1304,  0.3077,  0.2867, -0.0603],\n",
      "          [-0.3381, -0.2430,  0.2103,  0.4377,  0.5272],\n",
      "          [-1.0223, -0.6376, -0.2281,  0.2914,  0.4703],\n",
      "          [ 0.0349, -0.6506, -0.7068, -0.8547, -0.2762]]],\n",
      "\n",
      "\n",
      "        [[[ 0.0061,  0.2486,  0.1777, -0.0818, -0.7146],\n",
      "          [ 0.0790, -0.1430,  0.1854, -0.2783, -0.6991],\n",
      "          [ 0.2879,  0.0296,  0.0411,  0.5997,  0.4978],\n",
      "          [ 0.2951, -0.1424,  0.2091,  0.0988,  0.1348],\n",
      "          [ 0.2495,  0.2252, -0.1230, -0.0429, -0.1397]]],\n",
      "\n",
      "\n",
      "        [[[ 0.5248, -0.1424, -0.2075, -0.4629, -0.0792],\n",
      "          [ 0.3721, -0.0922, -0.1860, -0.6628, -0.0974],\n",
      "          [ 0.4274, -0.0144, -0.0286, -0.8136, -0.3415],\n",
      "          [ 0.3901, -0.1310, -0.1902, -0.6718, -0.1701],\n",
      "          [ 0.3658, -0.3401, -0.0899, -0.2972,  0.4359]]]], requires_grad=True)\n"
     ]
    }
   ],
   "source": [
    "print(model.conv1.weight)"
   ]
  },
  {
   "cell_type": "markdown",
   "id": "eabb65af",
   "metadata": {},
   "source": [
    "We can use the model now to test on testing data. We import and transform the test data."
   ]
  },
  {
   "cell_type": "code",
   "execution_count": 27,
   "id": "8a43f866",
   "metadata": {},
   "outputs": [],
   "source": [
    "test_data = io.loadmat('./../datasets/MNIST/mnist_test_data.mat')\n",
    "test_labels = io.loadmat('./../datasets/MNIST/mnist_test_label.mat')\n",
    "\n",
    "num_test_samples = len(test_data['test_data'])\n",
    "test_samples = test_data['test_data'].reshape(num_test_samples, 28, 28)[:, None].astype(np.float32)\n",
    "test_labels = test_labels['test_label'][:,0].astype(np.int64)\n",
    "\n",
    "test_samples = torch.tensor(test_samples)\n",
    "test_labels = torch.tensor(test_labels)"
   ]
  },
  {
   "cell_type": "code",
   "execution_count": 29,
   "id": "dcb4fce3",
   "metadata": {},
   "outputs": [],
   "source": [
    "num_classes = 10\n",
    "with torch.no_grad():\n",
    "    predictions = model(test_samples)\n",
    "    predictions = torch.argmax(predictions, dim=1)\n",
    "    confusion_mtx = np.zeros((num_classes, num_classes))\n",
    "    for i in range(num_classes):\n",
    "        for j in range(num_classes):\n",
    "            confusion_mtx[i,j] = sum((test_labels==i) & (predictions==j))"
   ]
  },
  {
   "cell_type": "code",
   "execution_count": 31,
   "id": "92acfd68",
   "metadata": {},
   "outputs": [
    {
     "data": {
      "text/plain": [
       "98.32"
      ]
     },
     "execution_count": 31,
     "metadata": {},
     "output_type": "execute_result"
    }
   ],
   "source": [
    "testing_accuracy = sum(np.diag(confusion_mtx))/sum(sum(confusion_mtx)) * 100\n",
    "testing_accuracy"
   ]
  },
  {
   "cell_type": "markdown",
   "id": "3c820816",
   "metadata": {},
   "source": [
    "We now write a function to plot the confusion matrix."
   ]
  },
  {
   "cell_type": "code",
   "execution_count": 67,
   "id": "9561d847",
   "metadata": {},
   "outputs": [],
   "source": [
    "def plot_confusion_matrix(data, ax=None, xaxis_label=r'PREDICTED CLASS',\n",
    "    yaxis_label=r'TRUE CLASS', map_min=0.0, map_max=1.0, title_text=None,\n",
    "    show=True, save=False):\n",
    "    ''' Plots confusion matrix '''\n",
    "    if ax is None:\n",
    "        fig = plt.figure(figsize=(8,8))\n",
    "        ax = plt.gca()\n",
    "\n",
    "    ax = sns.heatmap(data, vmin=map_min, vmax=map_max, linewidths=0.5,\n",
    "        annot=True, fmt=\".0f\", cmap=\"GnBu_r\")\n",
    "    # ax.invert_yaxis()\n",
    "    plt.xlabel(xaxis_label)\n",
    "    plt.ylabel(yaxis_label)\n",
    "    plt.title(title_text)\n",
    "\n",
    "    if save:\n",
    "        plt.savefig(save + '.pdf', format='pdf')\n",
    "\n",
    "    if show:\n",
    "        plt.show()\n",
    "\n",
    "    return"
   ]
  },
  {
   "cell_type": "code",
   "execution_count": 68,
   "id": "aef60f4f",
   "metadata": {},
   "outputs": [
    {
     "data": {
      "image/png": "[encoded data removed]",
      "text/plain": [
       "<Figure size 576x576 with 2 Axes>"
      ]
     },
     "metadata": {
      "needs_background": "light"
     },
     "output_type": "display_data"
    }
   ],
   "source": [
    "plot_confusion_matrix(confusion_mtx, map_max=1000)"
   ]
  }
 ],
 "metadata": {
  "kernelspec": {
   "display_name": "Python 3 (ipykernel)",
   "language": "python",
   "name": "python3"
  },
  "language_info": {
   "codemirror_mode": {
    "name": "ipython",
    "version": 3
   },
   "file_extension": ".py",
   "mimetype": "text/x-python",
   "name": "python",
   "nbconvert_exporter": "python",
   "pygments_lexer": "ipython3",
   "version": "3.7.11"
  }
 },
 "nbformat": 4,
 "nbformat_minor": 5
}
